{
 "cells": [
  {
   "cell_type": "code",
   "execution_count": 1,
   "metadata": {},
   "outputs": [],
   "source": [
    "import numpy as np\n",
    "import pandas as pd\n",
    "import matplotlib.pyplot as plt\n",
    "%matplotlib inline\n",
    "import seaborn as sns\n",
    "import sklearn"
   ]
  },
  {
   "cell_type": "code",
   "execution_count": 2,
   "metadata": {},
   "outputs": [],
   "source": [
    "train = pd.read_csv(\"train.csv\")"
   ]
  },
  {
   "cell_type": "code",
   "execution_count": 3,
   "metadata": {},
   "outputs": [
    {
     "name": "stdout",
     "output_type": "stream",
     "text": [
      "Train data: (108129, 14)\n"
     ]
    }
   ],
   "source": [
    "print('Train data: {}'.format(train.shape))"
   ]
  },
  {
   "cell_type": "code",
   "execution_count": 4,
   "metadata": {},
   "outputs": [
    {
     "data": {
      "text/html": [
       "<div>\n",
       "<style>\n",
       "    .dataframe thead tr:only-child th {\n",
       "        text-align: right;\n",
       "    }\n",
       "\n",
       "    .dataframe thead th {\n",
       "        text-align: left;\n",
       "    }\n",
       "\n",
       "    .dataframe tbody tr th {\n",
       "        vertical-align: top;\n",
       "    }\n",
       "</style>\n",
       "<table border=\"1\" class=\"dataframe\">\n",
       "  <thead>\n",
       "    <tr style=\"text-align: right;\">\n",
       "      <th></th>\n",
       "      <th>project_id</th>\n",
       "      <th>name</th>\n",
       "      <th>desc</th>\n",
       "      <th>goal</th>\n",
       "      <th>keywords</th>\n",
       "      <th>disable_communication</th>\n",
       "      <th>country</th>\n",
       "      <th>currency</th>\n",
       "      <th>deadline</th>\n",
       "      <th>state_changed_at</th>\n",
       "      <th>created_at</th>\n",
       "      <th>launched_at</th>\n",
       "      <th>backers_count</th>\n",
       "      <th>final_status</th>\n",
       "    </tr>\n",
       "  </thead>\n",
       "  <tbody>\n",
       "    <tr>\n",
       "      <th>0</th>\n",
       "      <td>kkst1451568084</td>\n",
       "      <td>drawing for dollars</td>\n",
       "      <td>I like drawing pictures. and then i color them...</td>\n",
       "      <td>20.0</td>\n",
       "      <td>drawing-for-dollars</td>\n",
       "      <td>False</td>\n",
       "      <td>US</td>\n",
       "      <td>USD</td>\n",
       "      <td>1241333999</td>\n",
       "      <td>1241334017</td>\n",
       "      <td>1240600507</td>\n",
       "      <td>1240602723</td>\n",
       "      <td>3</td>\n",
       "      <td>1</td>\n",
       "    </tr>\n",
       "    <tr>\n",
       "      <th>1</th>\n",
       "      <td>kkst1474482071</td>\n",
       "      <td>Sponsor Dereck Blackburn (Lostwars) Artist in ...</td>\n",
       "      <td>I, Dereck Blackburn will be taking upon an inc...</td>\n",
       "      <td>300.0</td>\n",
       "      <td>sponsor-dereck-blackburn-lostwars-artist-in-re...</td>\n",
       "      <td>False</td>\n",
       "      <td>US</td>\n",
       "      <td>USD</td>\n",
       "      <td>1242429000</td>\n",
       "      <td>1242432018</td>\n",
       "      <td>1240960224</td>\n",
       "      <td>1240975592</td>\n",
       "      <td>2</td>\n",
       "      <td>0</td>\n",
       "    </tr>\n",
       "    <tr>\n",
       "      <th>2</th>\n",
       "      <td>kkst183622197</td>\n",
       "      <td>Mr. Squiggles</td>\n",
       "      <td>So I saw darkpony's successfully funded drawin...</td>\n",
       "      <td>30.0</td>\n",
       "      <td>mr-squiggles</td>\n",
       "      <td>False</td>\n",
       "      <td>US</td>\n",
       "      <td>USD</td>\n",
       "      <td>1243027560</td>\n",
       "      <td>1243027818</td>\n",
       "      <td>1242163613</td>\n",
       "      <td>1242164398</td>\n",
       "      <td>0</td>\n",
       "      <td>0</td>\n",
       "    </tr>\n",
       "    <tr>\n",
       "      <th>3</th>\n",
       "      <td>kkst597742710</td>\n",
       "      <td>Help me write my second novel.</td>\n",
       "      <td>Do your part to help out starving artists and ...</td>\n",
       "      <td>500.0</td>\n",
       "      <td>help-me-write-my-second-novel</td>\n",
       "      <td>False</td>\n",
       "      <td>US</td>\n",
       "      <td>USD</td>\n",
       "      <td>1243555740</td>\n",
       "      <td>1243556121</td>\n",
       "      <td>1240963795</td>\n",
       "      <td>1240966730</td>\n",
       "      <td>18</td>\n",
       "      <td>1</td>\n",
       "    </tr>\n",
       "    <tr>\n",
       "      <th>4</th>\n",
       "      <td>kkst1913131122</td>\n",
       "      <td>Support casting my sculpture in bronze</td>\n",
       "      <td>I'm nearing completion on a sculpture, current...</td>\n",
       "      <td>2000.0</td>\n",
       "      <td>support-casting-my-sculpture-in-bronze</td>\n",
       "      <td>False</td>\n",
       "      <td>US</td>\n",
       "      <td>USD</td>\n",
       "      <td>1243769880</td>\n",
       "      <td>1243770317</td>\n",
       "      <td>1241177914</td>\n",
       "      <td>1241180541</td>\n",
       "      <td>1</td>\n",
       "      <td>0</td>\n",
       "    </tr>\n",
       "  </tbody>\n",
       "</table>\n",
       "</div>"
      ],
      "text/plain": [
       "       project_id                                               name  \\\n",
       "0  kkst1451568084                                drawing for dollars   \n",
       "1  kkst1474482071  Sponsor Dereck Blackburn (Lostwars) Artist in ...   \n",
       "2   kkst183622197                                      Mr. Squiggles   \n",
       "3   kkst597742710                     Help me write my second novel.   \n",
       "4  kkst1913131122             Support casting my sculpture in bronze   \n",
       "\n",
       "                                                desc    goal  \\\n",
       "0  I like drawing pictures. and then i color them...    20.0   \n",
       "1  I, Dereck Blackburn will be taking upon an inc...   300.0   \n",
       "2  So I saw darkpony's successfully funded drawin...    30.0   \n",
       "3  Do your part to help out starving artists and ...   500.0   \n",
       "4  I'm nearing completion on a sculpture, current...  2000.0   \n",
       "\n",
       "                                            keywords  disable_communication  \\\n",
       "0                                drawing-for-dollars                  False   \n",
       "1  sponsor-dereck-blackburn-lostwars-artist-in-re...                  False   \n",
       "2                                       mr-squiggles                  False   \n",
       "3                      help-me-write-my-second-novel                  False   \n",
       "4             support-casting-my-sculpture-in-bronze                  False   \n",
       "\n",
       "  country currency    deadline  state_changed_at  created_at  launched_at  \\\n",
       "0      US      USD  1241333999        1241334017  1240600507   1240602723   \n",
       "1      US      USD  1242429000        1242432018  1240960224   1240975592   \n",
       "2      US      USD  1243027560        1243027818  1242163613   1242164398   \n",
       "3      US      USD  1243555740        1243556121  1240963795   1240966730   \n",
       "4      US      USD  1243769880        1243770317  1241177914   1241180541   \n",
       "\n",
       "   backers_count  final_status  \n",
       "0              3             1  \n",
       "1              2             0  \n",
       "2              0             0  \n",
       "3             18             1  \n",
       "4              1             0  "
      ]
     },
     "execution_count": 4,
     "metadata": {},
     "output_type": "execute_result"
    }
   ],
   "source": [
    "train.head()"
   ]
  },
  {
   "cell_type": "code",
   "execution_count": 5,
   "metadata": {},
   "outputs": [
    {
     "name": "stdout",
     "output_type": "stream",
     "text": [
      "US    92033\n",
      "GB     8758\n",
      "CA     3736\n",
      "AU     1880\n",
      "NL      705\n",
      "NZ      355\n",
      "SE      240\n",
      "DK      196\n",
      "NO      114\n",
      "IE      111\n",
      "DE        1\n",
      "Name: country, dtype: int64\n"
     ]
    }
   ],
   "source": [
    "print(train.country.value_counts())"
   ]
  },
  {
   "cell_type": "code",
   "execution_count": 6,
   "metadata": {},
   "outputs": [
    {
     "name": "stdout",
     "output_type": "stream",
     "text": [
      "USD    92033\n",
      "GBP     8758\n",
      "CAD     3736\n",
      "AUD     1880\n",
      "EUR      817\n",
      "NZD      355\n",
      "SEK      240\n",
      "DKK      196\n",
      "NOK      114\n",
      "Name: currency, dtype: int64\n"
     ]
    }
   ],
   "source": [
    "print(train.currency.value_counts())"
   ]
  },
  {
   "cell_type": "code",
   "execution_count": 7,
   "metadata": {},
   "outputs": [],
   "source": [
    "from currency_converter import CurrencyConverter\n",
    "\n",
    "c = CurrencyConverter()\n",
    "converted_currency = []\n",
    "\n",
    "for i in range(0, len(train)):\n",
    "    convert_curr = c.convert(train['goal'][i], train['currency'][i], 'USD')\n",
    "    converted_currency.append(convert_curr)\n"
   ]
  },
  {
   "cell_type": "code",
   "execution_count": 8,
   "metadata": {},
   "outputs": [
    {
     "name": "stdout",
     "output_type": "stream",
     "text": [
      "(108129, 15)\n"
     ]
    },
    {
     "data": {
      "text/html": [
       "<div>\n",
       "<style>\n",
       "    .dataframe thead tr:only-child th {\n",
       "        text-align: right;\n",
       "    }\n",
       "\n",
       "    .dataframe thead th {\n",
       "        text-align: left;\n",
       "    }\n",
       "\n",
       "    .dataframe tbody tr th {\n",
       "        vertical-align: top;\n",
       "    }\n",
       "</style>\n",
       "<table border=\"1\" class=\"dataframe\">\n",
       "  <thead>\n",
       "    <tr style=\"text-align: right;\">\n",
       "      <th></th>\n",
       "      <th>project_id</th>\n",
       "      <th>name</th>\n",
       "      <th>desc</th>\n",
       "      <th>goal</th>\n",
       "      <th>keywords</th>\n",
       "      <th>disable_communication</th>\n",
       "      <th>country</th>\n",
       "      <th>currency</th>\n",
       "      <th>deadline</th>\n",
       "      <th>state_changed_at</th>\n",
       "      <th>created_at</th>\n",
       "      <th>launched_at</th>\n",
       "      <th>backers_count</th>\n",
       "      <th>final_status</th>\n",
       "      <th>converted_goal_USD</th>\n",
       "    </tr>\n",
       "  </thead>\n",
       "  <tbody>\n",
       "    <tr>\n",
       "      <th>0</th>\n",
       "      <td>kkst1451568084</td>\n",
       "      <td>drawing for dollars</td>\n",
       "      <td>I like drawing pictures. and then i color them...</td>\n",
       "      <td>20.0</td>\n",
       "      <td>drawing-for-dollars</td>\n",
       "      <td>False</td>\n",
       "      <td>US</td>\n",
       "      <td>USD</td>\n",
       "      <td>1241333999</td>\n",
       "      <td>1241334017</td>\n",
       "      <td>1240600507</td>\n",
       "      <td>1240602723</td>\n",
       "      <td>3</td>\n",
       "      <td>1</td>\n",
       "      <td>20.0</td>\n",
       "    </tr>\n",
       "    <tr>\n",
       "      <th>1</th>\n",
       "      <td>kkst1474482071</td>\n",
       "      <td>Sponsor Dereck Blackburn (Lostwars) Artist in ...</td>\n",
       "      <td>I, Dereck Blackburn will be taking upon an inc...</td>\n",
       "      <td>300.0</td>\n",
       "      <td>sponsor-dereck-blackburn-lostwars-artist-in-re...</td>\n",
       "      <td>False</td>\n",
       "      <td>US</td>\n",
       "      <td>USD</td>\n",
       "      <td>1242429000</td>\n",
       "      <td>1242432018</td>\n",
       "      <td>1240960224</td>\n",
       "      <td>1240975592</td>\n",
       "      <td>2</td>\n",
       "      <td>0</td>\n",
       "      <td>300.0</td>\n",
       "    </tr>\n",
       "    <tr>\n",
       "      <th>2</th>\n",
       "      <td>kkst183622197</td>\n",
       "      <td>Mr. Squiggles</td>\n",
       "      <td>So I saw darkpony's successfully funded drawin...</td>\n",
       "      <td>30.0</td>\n",
       "      <td>mr-squiggles</td>\n",
       "      <td>False</td>\n",
       "      <td>US</td>\n",
       "      <td>USD</td>\n",
       "      <td>1243027560</td>\n",
       "      <td>1243027818</td>\n",
       "      <td>1242163613</td>\n",
       "      <td>1242164398</td>\n",
       "      <td>0</td>\n",
       "      <td>0</td>\n",
       "      <td>30.0</td>\n",
       "    </tr>\n",
       "    <tr>\n",
       "      <th>3</th>\n",
       "      <td>kkst597742710</td>\n",
       "      <td>Help me write my second novel.</td>\n",
       "      <td>Do your part to help out starving artists and ...</td>\n",
       "      <td>500.0</td>\n",
       "      <td>help-me-write-my-second-novel</td>\n",
       "      <td>False</td>\n",
       "      <td>US</td>\n",
       "      <td>USD</td>\n",
       "      <td>1243555740</td>\n",
       "      <td>1243556121</td>\n",
       "      <td>1240963795</td>\n",
       "      <td>1240966730</td>\n",
       "      <td>18</td>\n",
       "      <td>1</td>\n",
       "      <td>500.0</td>\n",
       "    </tr>\n",
       "    <tr>\n",
       "      <th>4</th>\n",
       "      <td>kkst1913131122</td>\n",
       "      <td>Support casting my sculpture in bronze</td>\n",
       "      <td>I'm nearing completion on a sculpture, current...</td>\n",
       "      <td>2000.0</td>\n",
       "      <td>support-casting-my-sculpture-in-bronze</td>\n",
       "      <td>False</td>\n",
       "      <td>US</td>\n",
       "      <td>USD</td>\n",
       "      <td>1243769880</td>\n",
       "      <td>1243770317</td>\n",
       "      <td>1241177914</td>\n",
       "      <td>1241180541</td>\n",
       "      <td>1</td>\n",
       "      <td>0</td>\n",
       "      <td>2000.0</td>\n",
       "    </tr>\n",
       "  </tbody>\n",
       "</table>\n",
       "</div>"
      ],
      "text/plain": [
       "       project_id                                               name  \\\n",
       "0  kkst1451568084                                drawing for dollars   \n",
       "1  kkst1474482071  Sponsor Dereck Blackburn (Lostwars) Artist in ...   \n",
       "2   kkst183622197                                      Mr. Squiggles   \n",
       "3   kkst597742710                     Help me write my second novel.   \n",
       "4  kkst1913131122             Support casting my sculpture in bronze   \n",
       "\n",
       "                                                desc    goal  \\\n",
       "0  I like drawing pictures. and then i color them...    20.0   \n",
       "1  I, Dereck Blackburn will be taking upon an inc...   300.0   \n",
       "2  So I saw darkpony's successfully funded drawin...    30.0   \n",
       "3  Do your part to help out starving artists and ...   500.0   \n",
       "4  I'm nearing completion on a sculpture, current...  2000.0   \n",
       "\n",
       "                                            keywords  disable_communication  \\\n",
       "0                                drawing-for-dollars                  False   \n",
       "1  sponsor-dereck-blackburn-lostwars-artist-in-re...                  False   \n",
       "2                                       mr-squiggles                  False   \n",
       "3                      help-me-write-my-second-novel                  False   \n",
       "4             support-casting-my-sculpture-in-bronze                  False   \n",
       "\n",
       "  country currency    deadline  state_changed_at  created_at  launched_at  \\\n",
       "0      US      USD  1241333999        1241334017  1240600507   1240602723   \n",
       "1      US      USD  1242429000        1242432018  1240960224   1240975592   \n",
       "2      US      USD  1243027560        1243027818  1242163613   1242164398   \n",
       "3      US      USD  1243555740        1243556121  1240963795   1240966730   \n",
       "4      US      USD  1243769880        1243770317  1241177914   1241180541   \n",
       "\n",
       "   backers_count  final_status  converted_goal_USD  \n",
       "0              3             1                20.0  \n",
       "1              2             0               300.0  \n",
       "2              0             0                30.0  \n",
       "3             18             1               500.0  \n",
       "4              1             0              2000.0  "
      ]
     },
     "execution_count": 8,
     "metadata": {},
     "output_type": "execute_result"
    }
   ],
   "source": [
    "train['converted_goal_USD'] = converted_currency\n",
    "#train['converted_currency_USD'] = 'USD'\n",
    "print(train.shape)\n",
    "train.head()"
   ]
  },
  {
   "cell_type": "code",
   "execution_count": 9,
   "metadata": {},
   "outputs": [
    {
     "name": "stdout",
     "output_type": "stream",
     "text": [
      "min goal: 0.01\n",
      "avg goal: 35204.68228651182\n",
      "max goal: 100000000.0\n",
      "std dev goal: 903078.476121407\n"
     ]
    }
   ],
   "source": [
    "print('min goal: {}' .format(min(train['converted_goal_USD'])))\n",
    "print('avg goal: {}' .format(np.mean(train['converted_goal_USD'])))\n",
    "print('max goal: {}' .format(max(train['converted_goal_USD'])))\n",
    "print('std dev goal: {}' .format(np.std(train['converted_goal_USD'])))"
   ]
  },
  {
   "cell_type": "code",
   "execution_count": 10,
   "metadata": {},
   "outputs": [
    {
     "name": "stdout",
     "output_type": "stream",
     "text": [
      "(108129, 19)\n"
     ]
    }
   ],
   "source": [
    "# datetime format\n",
    "train['created_at_datetime'] = pd.to_datetime(train['created_at'],unit='s')\n",
    "train['state_changed_at_datetime'] = pd.to_datetime(train['state_changed_at'],unit='s')\n",
    "train['launched_at_datetime'] = pd.to_datetime(train['launched_at'],unit='s')\n",
    "train['deadline_datetime'] = pd.to_datetime(train['deadline'],unit='s')\n",
    "print(train.shape)"
   ]
  },
  {
   "cell_type": "code",
   "execution_count": 11,
   "metadata": {},
   "outputs": [
    {
     "name": "stdout",
     "output_type": "stream",
     "text": [
      "(108129, 22)\n"
     ]
    },
    {
     "data": {
      "text/html": [
       "<div>\n",
       "<style>\n",
       "    .dataframe thead tr:only-child th {\n",
       "        text-align: right;\n",
       "    }\n",
       "\n",
       "    .dataframe thead th {\n",
       "        text-align: left;\n",
       "    }\n",
       "\n",
       "    .dataframe tbody tr th {\n",
       "        vertical-align: top;\n",
       "    }\n",
       "</style>\n",
       "<table border=\"1\" class=\"dataframe\">\n",
       "  <thead>\n",
       "    <tr style=\"text-align: right;\">\n",
       "      <th></th>\n",
       "      <th>project_id</th>\n",
       "      <th>name</th>\n",
       "      <th>desc</th>\n",
       "      <th>goal</th>\n",
       "      <th>keywords</th>\n",
       "      <th>disable_communication</th>\n",
       "      <th>country</th>\n",
       "      <th>currency</th>\n",
       "      <th>deadline</th>\n",
       "      <th>state_changed_at</th>\n",
       "      <th>...</th>\n",
       "      <th>backers_count</th>\n",
       "      <th>final_status</th>\n",
       "      <th>converted_goal_USD</th>\n",
       "      <th>created_at_datetime</th>\n",
       "      <th>state_changed_at_datetime</th>\n",
       "      <th>launched_at_datetime</th>\n",
       "      <th>deadline_datetime</th>\n",
       "      <th>time_to_deadline</th>\n",
       "      <th>time_bw_deadline_and_state_change</th>\n",
       "      <th>time_bw_creation_and_launch</th>\n",
       "    </tr>\n",
       "  </thead>\n",
       "  <tbody>\n",
       "    <tr>\n",
       "      <th>0</th>\n",
       "      <td>kkst1451568084</td>\n",
       "      <td>drawing for dollars</td>\n",
       "      <td>I like drawing pictures. and then i color them...</td>\n",
       "      <td>20.0</td>\n",
       "      <td>drawing-for-dollars</td>\n",
       "      <td>False</td>\n",
       "      <td>US</td>\n",
       "      <td>USD</td>\n",
       "      <td>1241333999</td>\n",
       "      <td>1241334017</td>\n",
       "      <td>...</td>\n",
       "      <td>3</td>\n",
       "      <td>1</td>\n",
       "      <td>20.0</td>\n",
       "      <td>2009-04-24 19:15:07</td>\n",
       "      <td>2009-05-03 07:00:17</td>\n",
       "      <td>2009-04-24 19:52:03</td>\n",
       "      <td>2009-05-03 06:59:59</td>\n",
       "      <td>731276</td>\n",
       "      <td>18</td>\n",
       "      <td>2216</td>\n",
       "    </tr>\n",
       "    <tr>\n",
       "      <th>1</th>\n",
       "      <td>kkst1474482071</td>\n",
       "      <td>Sponsor Dereck Blackburn (Lostwars) Artist in ...</td>\n",
       "      <td>I, Dereck Blackburn will be taking upon an inc...</td>\n",
       "      <td>300.0</td>\n",
       "      <td>sponsor-dereck-blackburn-lostwars-artist-in-re...</td>\n",
       "      <td>False</td>\n",
       "      <td>US</td>\n",
       "      <td>USD</td>\n",
       "      <td>1242429000</td>\n",
       "      <td>1242432018</td>\n",
       "      <td>...</td>\n",
       "      <td>2</td>\n",
       "      <td>0</td>\n",
       "      <td>300.0</td>\n",
       "      <td>2009-04-28 23:10:24</td>\n",
       "      <td>2009-05-16 00:00:18</td>\n",
       "      <td>2009-04-29 03:26:32</td>\n",
       "      <td>2009-05-15 23:10:00</td>\n",
       "      <td>1453408</td>\n",
       "      <td>3018</td>\n",
       "      <td>15368</td>\n",
       "    </tr>\n",
       "    <tr>\n",
       "      <th>2</th>\n",
       "      <td>kkst183622197</td>\n",
       "      <td>Mr. Squiggles</td>\n",
       "      <td>So I saw darkpony's successfully funded drawin...</td>\n",
       "      <td>30.0</td>\n",
       "      <td>mr-squiggles</td>\n",
       "      <td>False</td>\n",
       "      <td>US</td>\n",
       "      <td>USD</td>\n",
       "      <td>1243027560</td>\n",
       "      <td>1243027818</td>\n",
       "      <td>...</td>\n",
       "      <td>0</td>\n",
       "      <td>0</td>\n",
       "      <td>30.0</td>\n",
       "      <td>2009-05-12 21:26:53</td>\n",
       "      <td>2009-05-22 21:30:18</td>\n",
       "      <td>2009-05-12 21:39:58</td>\n",
       "      <td>2009-05-22 21:26:00</td>\n",
       "      <td>863162</td>\n",
       "      <td>258</td>\n",
       "      <td>785</td>\n",
       "    </tr>\n",
       "    <tr>\n",
       "      <th>3</th>\n",
       "      <td>kkst597742710</td>\n",
       "      <td>Help me write my second novel.</td>\n",
       "      <td>Do your part to help out starving artists and ...</td>\n",
       "      <td>500.0</td>\n",
       "      <td>help-me-write-my-second-novel</td>\n",
       "      <td>False</td>\n",
       "      <td>US</td>\n",
       "      <td>USD</td>\n",
       "      <td>1243555740</td>\n",
       "      <td>1243556121</td>\n",
       "      <td>...</td>\n",
       "      <td>18</td>\n",
       "      <td>1</td>\n",
       "      <td>500.0</td>\n",
       "      <td>2009-04-29 00:09:55</td>\n",
       "      <td>2009-05-29 00:15:21</td>\n",
       "      <td>2009-04-29 00:58:50</td>\n",
       "      <td>2009-05-29 00:09:00</td>\n",
       "      <td>2589010</td>\n",
       "      <td>381</td>\n",
       "      <td>2935</td>\n",
       "    </tr>\n",
       "    <tr>\n",
       "      <th>4</th>\n",
       "      <td>kkst1913131122</td>\n",
       "      <td>Support casting my sculpture in bronze</td>\n",
       "      <td>I'm nearing completion on a sculpture, current...</td>\n",
       "      <td>2000.0</td>\n",
       "      <td>support-casting-my-sculpture-in-bronze</td>\n",
       "      <td>False</td>\n",
       "      <td>US</td>\n",
       "      <td>USD</td>\n",
       "      <td>1243769880</td>\n",
       "      <td>1243770317</td>\n",
       "      <td>...</td>\n",
       "      <td>1</td>\n",
       "      <td>0</td>\n",
       "      <td>2000.0</td>\n",
       "      <td>2009-05-01 11:38:34</td>\n",
       "      <td>2009-05-31 11:45:17</td>\n",
       "      <td>2009-05-01 12:22:21</td>\n",
       "      <td>2009-05-31 11:38:00</td>\n",
       "      <td>2589339</td>\n",
       "      <td>437</td>\n",
       "      <td>2627</td>\n",
       "    </tr>\n",
       "  </tbody>\n",
       "</table>\n",
       "<p>5 rows × 22 columns</p>\n",
       "</div>"
      ],
      "text/plain": [
       "       project_id                                               name  \\\n",
       "0  kkst1451568084                                drawing for dollars   \n",
       "1  kkst1474482071  Sponsor Dereck Blackburn (Lostwars) Artist in ...   \n",
       "2   kkst183622197                                      Mr. Squiggles   \n",
       "3   kkst597742710                     Help me write my second novel.   \n",
       "4  kkst1913131122             Support casting my sculpture in bronze   \n",
       "\n",
       "                                                desc    goal  \\\n",
       "0  I like drawing pictures. and then i color them...    20.0   \n",
       "1  I, Dereck Blackburn will be taking upon an inc...   300.0   \n",
       "2  So I saw darkpony's successfully funded drawin...    30.0   \n",
       "3  Do your part to help out starving artists and ...   500.0   \n",
       "4  I'm nearing completion on a sculpture, current...  2000.0   \n",
       "\n",
       "                                            keywords  disable_communication  \\\n",
       "0                                drawing-for-dollars                  False   \n",
       "1  sponsor-dereck-blackburn-lostwars-artist-in-re...                  False   \n",
       "2                                       mr-squiggles                  False   \n",
       "3                      help-me-write-my-second-novel                  False   \n",
       "4             support-casting-my-sculpture-in-bronze                  False   \n",
       "\n",
       "  country currency    deadline  state_changed_at             ...               \\\n",
       "0      US      USD  1241333999        1241334017             ...                \n",
       "1      US      USD  1242429000        1242432018             ...                \n",
       "2      US      USD  1243027560        1243027818             ...                \n",
       "3      US      USD  1243555740        1243556121             ...                \n",
       "4      US      USD  1243769880        1243770317             ...                \n",
       "\n",
       "   backers_count  final_status  converted_goal_USD  created_at_datetime  \\\n",
       "0              3             1                20.0  2009-04-24 19:15:07   \n",
       "1              2             0               300.0  2009-04-28 23:10:24   \n",
       "2              0             0                30.0  2009-05-12 21:26:53   \n",
       "3             18             1               500.0  2009-04-29 00:09:55   \n",
       "4              1             0              2000.0  2009-05-01 11:38:34   \n",
       "\n",
       "   state_changed_at_datetime launched_at_datetime   deadline_datetime  \\\n",
       "0        2009-05-03 07:00:17  2009-04-24 19:52:03 2009-05-03 06:59:59   \n",
       "1        2009-05-16 00:00:18  2009-04-29 03:26:32 2009-05-15 23:10:00   \n",
       "2        2009-05-22 21:30:18  2009-05-12 21:39:58 2009-05-22 21:26:00   \n",
       "3        2009-05-29 00:15:21  2009-04-29 00:58:50 2009-05-29 00:09:00   \n",
       "4        2009-05-31 11:45:17  2009-05-01 12:22:21 2009-05-31 11:38:00   \n",
       "\n",
       "  time_to_deadline time_bw_deadline_and_state_change  \\\n",
       "0           731276                                18   \n",
       "1          1453408                              3018   \n",
       "2           863162                               258   \n",
       "3          2589010                               381   \n",
       "4          2589339                               437   \n",
       "\n",
       "   time_bw_creation_and_launch  \n",
       "0                         2216  \n",
       "1                        15368  \n",
       "2                          785  \n",
       "3                         2935  \n",
       "4                         2627  \n",
       "\n",
       "[5 rows x 22 columns]"
      ]
     },
     "execution_count": 11,
     "metadata": {},
     "output_type": "execute_result"
    }
   ],
   "source": [
    "# unix format\n",
    "train[\"time_to_deadline\"] = train[\"deadline\"] - train[\"launched_at\"]\n",
    "train[\"time_bw_deadline_and_state_change\"] = train[\"state_changed_at\"] - train[\"deadline\"]\n",
    "train[\"time_bw_creation_and_launch\"] = train[\"launched_at\"] - train[\"created_at\"]\n",
    "print(train.shape)\n",
    "train.head()"
   ]
  },
  {
   "cell_type": "code",
   "execution_count": 12,
   "metadata": {},
   "outputs": [
    {
     "name": "stdout",
     "output_type": "stream",
     "text": [
      "(108129, 25)\n"
     ]
    },
    {
     "data": {
      "text/html": [
       "<div>\n",
       "<style>\n",
       "    .dataframe thead tr:only-child th {\n",
       "        text-align: right;\n",
       "    }\n",
       "\n",
       "    .dataframe thead th {\n",
       "        text-align: left;\n",
       "    }\n",
       "\n",
       "    .dataframe tbody tr th {\n",
       "        vertical-align: top;\n",
       "    }\n",
       "</style>\n",
       "<table border=\"1\" class=\"dataframe\">\n",
       "  <thead>\n",
       "    <tr style=\"text-align: right;\">\n",
       "      <th></th>\n",
       "      <th>project_id</th>\n",
       "      <th>name</th>\n",
       "      <th>desc</th>\n",
       "      <th>goal</th>\n",
       "      <th>keywords</th>\n",
       "      <th>disable_communication</th>\n",
       "      <th>country</th>\n",
       "      <th>currency</th>\n",
       "      <th>deadline</th>\n",
       "      <th>state_changed_at</th>\n",
       "      <th>...</th>\n",
       "      <th>created_at_datetime</th>\n",
       "      <th>state_changed_at_datetime</th>\n",
       "      <th>launched_at_datetime</th>\n",
       "      <th>deadline_datetime</th>\n",
       "      <th>time_to_deadline</th>\n",
       "      <th>time_bw_deadline_and_state_change</th>\n",
       "      <th>time_bw_creation_and_launch</th>\n",
       "      <th>time_to_deadline_datetime</th>\n",
       "      <th>time_bw_deadline_and_state_change_datetime</th>\n",
       "      <th>time_bw_creation_and_launch_datetime</th>\n",
       "    </tr>\n",
       "  </thead>\n",
       "  <tbody>\n",
       "    <tr>\n",
       "      <th>0</th>\n",
       "      <td>kkst1451568084</td>\n",
       "      <td>drawing for dollars</td>\n",
       "      <td>I like drawing pictures. and then i color them...</td>\n",
       "      <td>20.0</td>\n",
       "      <td>drawing-for-dollars</td>\n",
       "      <td>False</td>\n",
       "      <td>US</td>\n",
       "      <td>USD</td>\n",
       "      <td>1241333999</td>\n",
       "      <td>1241334017</td>\n",
       "      <td>...</td>\n",
       "      <td>2009-04-24 19:15:07</td>\n",
       "      <td>2009-05-03 07:00:17</td>\n",
       "      <td>2009-04-24 19:52:03</td>\n",
       "      <td>2009-05-03 06:59:59</td>\n",
       "      <td>731276</td>\n",
       "      <td>18</td>\n",
       "      <td>2216</td>\n",
       "      <td>8 days 11:07:56</td>\n",
       "      <td>00:00:18</td>\n",
       "      <td>2216</td>\n",
       "    </tr>\n",
       "    <tr>\n",
       "      <th>1</th>\n",
       "      <td>kkst1474482071</td>\n",
       "      <td>Sponsor Dereck Blackburn (Lostwars) Artist in ...</td>\n",
       "      <td>I, Dereck Blackburn will be taking upon an inc...</td>\n",
       "      <td>300.0</td>\n",
       "      <td>sponsor-dereck-blackburn-lostwars-artist-in-re...</td>\n",
       "      <td>False</td>\n",
       "      <td>US</td>\n",
       "      <td>USD</td>\n",
       "      <td>1242429000</td>\n",
       "      <td>1242432018</td>\n",
       "      <td>...</td>\n",
       "      <td>2009-04-28 23:10:24</td>\n",
       "      <td>2009-05-16 00:00:18</td>\n",
       "      <td>2009-04-29 03:26:32</td>\n",
       "      <td>2009-05-15 23:10:00</td>\n",
       "      <td>1453408</td>\n",
       "      <td>3018</td>\n",
       "      <td>15368</td>\n",
       "      <td>16 days 19:43:28</td>\n",
       "      <td>00:50:18</td>\n",
       "      <td>15368</td>\n",
       "    </tr>\n",
       "    <tr>\n",
       "      <th>2</th>\n",
       "      <td>kkst183622197</td>\n",
       "      <td>Mr. Squiggles</td>\n",
       "      <td>So I saw darkpony's successfully funded drawin...</td>\n",
       "      <td>30.0</td>\n",
       "      <td>mr-squiggles</td>\n",
       "      <td>False</td>\n",
       "      <td>US</td>\n",
       "      <td>USD</td>\n",
       "      <td>1243027560</td>\n",
       "      <td>1243027818</td>\n",
       "      <td>...</td>\n",
       "      <td>2009-05-12 21:26:53</td>\n",
       "      <td>2009-05-22 21:30:18</td>\n",
       "      <td>2009-05-12 21:39:58</td>\n",
       "      <td>2009-05-22 21:26:00</td>\n",
       "      <td>863162</td>\n",
       "      <td>258</td>\n",
       "      <td>785</td>\n",
       "      <td>9 days 23:46:02</td>\n",
       "      <td>00:04:18</td>\n",
       "      <td>785</td>\n",
       "    </tr>\n",
       "    <tr>\n",
       "      <th>3</th>\n",
       "      <td>kkst597742710</td>\n",
       "      <td>Help me write my second novel.</td>\n",
       "      <td>Do your part to help out starving artists and ...</td>\n",
       "      <td>500.0</td>\n",
       "      <td>help-me-write-my-second-novel</td>\n",
       "      <td>False</td>\n",
       "      <td>US</td>\n",
       "      <td>USD</td>\n",
       "      <td>1243555740</td>\n",
       "      <td>1243556121</td>\n",
       "      <td>...</td>\n",
       "      <td>2009-04-29 00:09:55</td>\n",
       "      <td>2009-05-29 00:15:21</td>\n",
       "      <td>2009-04-29 00:58:50</td>\n",
       "      <td>2009-05-29 00:09:00</td>\n",
       "      <td>2589010</td>\n",
       "      <td>381</td>\n",
       "      <td>2935</td>\n",
       "      <td>29 days 23:10:10</td>\n",
       "      <td>00:06:21</td>\n",
       "      <td>2935</td>\n",
       "    </tr>\n",
       "    <tr>\n",
       "      <th>4</th>\n",
       "      <td>kkst1913131122</td>\n",
       "      <td>Support casting my sculpture in bronze</td>\n",
       "      <td>I'm nearing completion on a sculpture, current...</td>\n",
       "      <td>2000.0</td>\n",
       "      <td>support-casting-my-sculpture-in-bronze</td>\n",
       "      <td>False</td>\n",
       "      <td>US</td>\n",
       "      <td>USD</td>\n",
       "      <td>1243769880</td>\n",
       "      <td>1243770317</td>\n",
       "      <td>...</td>\n",
       "      <td>2009-05-01 11:38:34</td>\n",
       "      <td>2009-05-31 11:45:17</td>\n",
       "      <td>2009-05-01 12:22:21</td>\n",
       "      <td>2009-05-31 11:38:00</td>\n",
       "      <td>2589339</td>\n",
       "      <td>437</td>\n",
       "      <td>2627</td>\n",
       "      <td>29 days 23:15:39</td>\n",
       "      <td>00:07:17</td>\n",
       "      <td>2627</td>\n",
       "    </tr>\n",
       "  </tbody>\n",
       "</table>\n",
       "<p>5 rows × 25 columns</p>\n",
       "</div>"
      ],
      "text/plain": [
       "       project_id                                               name  \\\n",
       "0  kkst1451568084                                drawing for dollars   \n",
       "1  kkst1474482071  Sponsor Dereck Blackburn (Lostwars) Artist in ...   \n",
       "2   kkst183622197                                      Mr. Squiggles   \n",
       "3   kkst597742710                     Help me write my second novel.   \n",
       "4  kkst1913131122             Support casting my sculpture in bronze   \n",
       "\n",
       "                                                desc    goal  \\\n",
       "0  I like drawing pictures. and then i color them...    20.0   \n",
       "1  I, Dereck Blackburn will be taking upon an inc...   300.0   \n",
       "2  So I saw darkpony's successfully funded drawin...    30.0   \n",
       "3  Do your part to help out starving artists and ...   500.0   \n",
       "4  I'm nearing completion on a sculpture, current...  2000.0   \n",
       "\n",
       "                                            keywords  disable_communication  \\\n",
       "0                                drawing-for-dollars                  False   \n",
       "1  sponsor-dereck-blackburn-lostwars-artist-in-re...                  False   \n",
       "2                                       mr-squiggles                  False   \n",
       "3                      help-me-write-my-second-novel                  False   \n",
       "4             support-casting-my-sculpture-in-bronze                  False   \n",
       "\n",
       "  country currency    deadline  state_changed_at  \\\n",
       "0      US      USD  1241333999        1241334017   \n",
       "1      US      USD  1242429000        1242432018   \n",
       "2      US      USD  1243027560        1243027818   \n",
       "3      US      USD  1243555740        1243556121   \n",
       "4      US      USD  1243769880        1243770317   \n",
       "\n",
       "                   ...                   created_at_datetime  \\\n",
       "0                  ...                   2009-04-24 19:15:07   \n",
       "1                  ...                   2009-04-28 23:10:24   \n",
       "2                  ...                   2009-05-12 21:26:53   \n",
       "3                  ...                   2009-04-29 00:09:55   \n",
       "4                  ...                   2009-05-01 11:38:34   \n",
       "\n",
       "   state_changed_at_datetime  launched_at_datetime   deadline_datetime  \\\n",
       "0        2009-05-03 07:00:17   2009-04-24 19:52:03 2009-05-03 06:59:59   \n",
       "1        2009-05-16 00:00:18   2009-04-29 03:26:32 2009-05-15 23:10:00   \n",
       "2        2009-05-22 21:30:18   2009-05-12 21:39:58 2009-05-22 21:26:00   \n",
       "3        2009-05-29 00:15:21   2009-04-29 00:58:50 2009-05-29 00:09:00   \n",
       "4        2009-05-31 11:45:17   2009-05-01 12:22:21 2009-05-31 11:38:00   \n",
       "\n",
       "   time_to_deadline time_bw_deadline_and_state_change  \\\n",
       "0            731276                                18   \n",
       "1           1453408                              3018   \n",
       "2            863162                               258   \n",
       "3           2589010                               381   \n",
       "4           2589339                               437   \n",
       "\n",
       "  time_bw_creation_and_launch time_to_deadline_datetime  \\\n",
       "0                        2216           8 days 11:07:56   \n",
       "1                       15368          16 days 19:43:28   \n",
       "2                         785           9 days 23:46:02   \n",
       "3                        2935          29 days 23:10:10   \n",
       "4                        2627          29 days 23:15:39   \n",
       "\n",
       "  time_bw_deadline_and_state_change_datetime  \\\n",
       "0                                   00:00:18   \n",
       "1                                   00:50:18   \n",
       "2                                   00:04:18   \n",
       "3                                   00:06:21   \n",
       "4                                   00:07:17   \n",
       "\n",
       "   time_bw_creation_and_launch_datetime  \n",
       "0                                  2216  \n",
       "1                                 15368  \n",
       "2                                   785  \n",
       "3                                  2935  \n",
       "4                                  2627  \n",
       "\n",
       "[5 rows x 25 columns]"
      ]
     },
     "execution_count": 12,
     "metadata": {},
     "output_type": "execute_result"
    }
   ],
   "source": [
    "# datetime format\n",
    "train[\"time_to_deadline_datetime\"] = train[\"deadline_datetime\"] - train[\"launched_at_datetime\"]\n",
    "train[\"time_bw_deadline_and_state_change_datetime\"] = train[\"state_changed_at_datetime\"] - train[\"deadline_datetime\"]\n",
    "train[\"time_bw_creation_and_launch_datetime\"] = train[\"launched_at\"] - train[\"created_at\"]\n",
    "print(train.shape)\n",
    "train.head()"
   ]
  },
  {
   "cell_type": "code",
   "execution_count": 13,
   "metadata": {},
   "outputs": [
    {
     "name": "stdout",
     "output_type": "stream",
     "text": [
      "min time to deadline datetime: 1 days 00:00:00\n",
      "avg time to deadline datetime: 34 days 03:18:13.295545\n",
      "max time to deadline datetime: 91 days 23:00:00\n",
      "std dev time to deadline datetime: 12 days 23:13:24.316033\n"
     ]
    }
   ],
   "source": [
    "# datetime format\n",
    "print('min time to deadline datetime: {}' .format(min(train['time_to_deadline_datetime'])))\n",
    "print('avg time to deadline datetime: {}' .format(np.mean(train['time_to_deadline_datetime'])))\n",
    "print('max time to deadline datetime: {}' .format(max(train['time_to_deadline_datetime'])))\n",
    "print('std dev time to deadline datetime: {}' .format(np.std(train['time_to_deadline_datetime'])))"
   ]
  },
  {
   "cell_type": "code",
   "execution_count": 14,
   "metadata": {},
   "outputs": [
    {
     "name": "stdout",
     "output_type": "stream",
     "text": [
      "Funded: 34561 \n",
      "Not funded: 73568 \n"
     ]
    }
   ],
   "source": [
    "print(\"Funded: {} \".format((train['final_status'] == 1).sum()))\n",
    "print(\"Not funded: {} \".format((train['final_status'] == 0).sum()))"
   ]
  },
  {
   "cell_type": "code",
   "execution_count": 15,
   "metadata": {},
   "outputs": [
    {
     "name": "stdout",
     "output_type": "stream",
     "text": [
      "False    107806\n",
      "True        323\n",
      "Name: disable_communication, dtype: int64\n"
     ]
    }
   ],
   "source": [
    "print(train.disable_communication.value_counts())"
   ]
  },
  {
   "cell_type": "code",
   "execution_count": 16,
   "metadata": {},
   "outputs": [
    {
     "data": {
      "text/plain": [
       "<matplotlib.axes._subplots.AxesSubplot at 0x7f3317d1ccc0>"
      ]
     },
     "execution_count": 16,
     "metadata": {},
     "output_type": "execute_result"
    },
    {
     "data": {
      "image/png": "[encoded data removed]",
      "text/plain": [
       "<matplotlib.figure.Figure at 0x7f334d767518>"
      ]
     },
     "metadata": {},
     "output_type": "display_data"
    }
   ],
   "source": [
    "# These many people have disabled or enabled commn from total\n",
    "sns.countplot(train['disable_communication'])"
   ]
  },
  {
   "cell_type": "code",
   "execution_count": 17,
   "metadata": {},
   "outputs": [
    {
     "name": "stdout",
     "output_type": "stream",
     "text": [
      "disabled commn and funded: 0\n"
     ]
    }
   ],
   "source": [
    "print('disabled commn and funded: {}'.format(train[train['disable_communication'] == True]['final_status'].sum()))"
   ]
  },
  {
   "cell_type": "code",
   "execution_count": 18,
   "metadata": {},
   "outputs": [
    {
     "name": "stdout",
     "output_type": "stream",
     "text": [
      "enabled commn and funded: 34561\n"
     ]
    }
   ],
   "source": [
    "print('enabled commn and funded: {}'.format(train[train['disable_communication'] == False]['final_status'].sum()))"
   ]
  },
  {
   "cell_type": "code",
   "execution_count": 19,
   "metadata": {},
   "outputs": [
    {
     "data": {
      "text/plain": [
       "<matplotlib.axes._subplots.AxesSubplot at 0x7f331ca58be0>"
      ]
     },
     "execution_count": 19,
     "metadata": {},
     "output_type": "execute_result"
    },
    {
     "data": {
      "image/png": "[encoded data removed]",
      "text/plain": [
       "<matplotlib.figure.Figure at 0x7f331b07d3c8>"
      ]
     },
     "metadata": {},
     "output_type": "display_data"
    }
   ],
   "source": [
    "# This much percent of people were funded being commn disabled or enabled\n",
    "sns.barplot(x = \"disable_communication\", y = \"final_status\", data = train)"
   ]
  },
  {
   "cell_type": "code",
   "execution_count": 20,
   "metadata": {},
   "outputs": [],
   "source": [
    "enabled_commn_and_funded = train[train['disable_communication'] == False]['final_status']"
   ]
  },
  {
   "cell_type": "code",
   "execution_count": 21,
   "metadata": {},
   "outputs": [
    {
     "data": {
      "text/plain": [
       "<matplotlib.axes._subplots.AxesSubplot at 0x7f331b0995c0>"
      ]
     },
     "execution_count": 21,
     "metadata": {},
     "output_type": "execute_result"
    },
    {
     "data": {
      "image/png": "[encoded data removed]",
      "text/plain": [
       "<matplotlib.figure.Figure at 0x7f331b02df98>"
      ]
     },
     "metadata": {},
     "output_type": "display_data"
    }
   ],
   "source": [
    "# people funded and not funded being enabled commn\n",
    "sns.countplot(enabled_commn_and_funded)"
   ]
  },
  {
   "cell_type": "code",
   "execution_count": 22,
   "metadata": {},
   "outputs": [
    {
     "data": {
      "text/plain": [
       "<matplotlib.axes._subplots.AxesSubplot at 0x7f331aff3b38>"
      ]
     },
     "execution_count": 22,
     "metadata": {},
     "output_type": "execute_result"
    },
    {
     "data": {
      "image/png": "[encoded data removed]",
      "text/plain": [
       "<matplotlib.figure.Figure at 0x7f331b103a20>"
      ]
     },
     "metadata": {},
     "output_type": "display_data"
    }
   ],
   "source": [
    "# no. of people from the countries \n",
    "sns.countplot(train['country'])"
   ]
  },
  {
   "cell_type": "code",
   "execution_count": 23,
   "metadata": {},
   "outputs": [
    {
     "data": {
      "text/plain": [
       "<matplotlib.axes._subplots.AxesSubplot at 0x7f331b00dd68>"
      ]
     },
     "execution_count": 23,
     "metadata": {},
     "output_type": "execute_result"
    },
    {
     "data": {
      "image/png": "[encoded data removed]",
      "text/plain": [
       "<matplotlib.figure.Figure at 0x7f331b01e080>"
      ]
     },
     "metadata": {},
     "output_type": "display_data"
    }
   ],
   "source": [
    "(train['country'].value_counts() / len(train)).plot.bar()\n"
   ]
  },
  {
   "cell_type": "code",
   "execution_count": 24,
   "metadata": {},
   "outputs": [
    {
     "data": {
      "text/plain": [
       "<matplotlib.axes._subplots.AxesSubplot at 0x7f331afe12b0>"
      ]
     },
     "execution_count": 24,
     "metadata": {},
     "output_type": "execute_result"
    },
    {
     "data": {
      "image/png": "[encoded data removed]",
      "text/plain": [
       "<matplotlib.figure.Figure at 0x7f331b0015f8>"
      ]
     },
     "metadata": {},
     "output_type": "display_data"
    }
   ],
   "source": [
    "# percentage of the people funded contry wise\n",
    "sns.barplot(x = \"country\", y = \"final_status\", data = train)"
   ]
  },
  {
   "cell_type": "code",
   "execution_count": 25,
   "metadata": {},
   "outputs": [
    {
     "data": {
      "text/plain": [
       "<matplotlib.axes._subplots.AxesSubplot at 0x7f331af372b0>"
      ]
     },
     "execution_count": 25,
     "metadata": {},
     "output_type": "execute_result"
    },
    {
     "data": {
      "image/png": "[encoded data removed]",
      "text/plain": [
       "<matplotlib.figure.Figure at 0x7f331aef1be0>"
      ]
     },
     "metadata": {},
     "output_type": "display_data"
    }
   ],
   "source": [
    "# skewed backers_count data\n",
    "sns.distplot(train['backers_count'])"
   ]
  },
  {
   "cell_type": "code",
   "execution_count": 26,
   "metadata": {},
   "outputs": [
    {
     "data": {
      "text/plain": [
       "<matplotlib.axes._subplots.AxesSubplot at 0x7f331aec9cc0>"
      ]
     },
     "execution_count": 26,
     "metadata": {},
     "output_type": "execute_result"
    },
    {
     "data": {
      "image/png": "[encoded data removed]",
      "text/plain": [
       "<matplotlib.figure.Figure at 0x7f331af1c8d0>"
      ]
     },
     "metadata": {},
     "output_type": "display_data"
    }
   ],
   "source": [
    "sns.distplot(train[train['backers_count'] < 60]['backers_count'])"
   ]
  },
  {
   "cell_type": "code",
   "execution_count": 27,
   "metadata": {},
   "outputs": [
    {
     "data": {
      "text/plain": [
       "<matplotlib.axes._subplots.AxesSubplot at 0x7f331aea3a20>"
      ]
     },
     "execution_count": 27,
     "metadata": {},
     "output_type": "execute_result"
    },
    {
     "data": {
      "image/png": "[encoded data removed]",
      "text/plain": [
       "<matplotlib.figure.Figure at 0x7f331ae11f60>"
      ]
     },
     "metadata": {},
     "output_type": "display_data"
    }
   ],
   "source": [
    "# skewed goal data\n",
    "sns.distplot(train['converted_goal_USD'])"
   ]
  },
  {
   "cell_type": "code",
   "execution_count": 28,
   "metadata": {},
   "outputs": [
    {
     "data": {
      "text/plain": [
       "<matplotlib.axes._subplots.AxesSubplot at 0x7f331adea128>"
      ]
     },
     "execution_count": 28,
     "metadata": {},
     "output_type": "execute_result"
    },
    {
     "data": {
      "image/png": "[encoded data removed]",
      "text/plain": [
       "<matplotlib.figure.Figure at 0x7f331adc3f28>"
      ]
     },
     "metadata": {},
     "output_type": "display_data"
    }
   ],
   "source": [
    "sns.distplot(train[train['converted_goal_USD'] < 40000]['converted_goal_USD'])\n"
   ]
  },
  {
   "cell_type": "code",
   "execution_count": 29,
   "metadata": {},
   "outputs": [
    {
     "data": {
      "text/plain": [
       "<matplotlib.axes._subplots.AxesSubplot at 0x7f331a620128>"
      ]
     },
     "execution_count": 29,
     "metadata": {},
     "output_type": "execute_result"
    },
    {
     "data": {
      "image/png": "[encoded data removed]",
      "text/plain": [
       "<matplotlib.figure.Figure at 0x7f331ad35518>"
      ]
     },
     "metadata": {},
     "output_type": "display_data"
    }
   ],
   "source": [
    "# most of the deadlines are around 30 days\n",
    "train['time_to_deadline_datetime'].value_counts().sort_index().plot.line()"
   ]
  },
  {
   "cell_type": "code",
   "execution_count": 30,
   "metadata": {},
   "outputs": [
    {
     "data": {
      "text/plain": [
       "array([  680,  4421, 11482, 19667, 20035, 37603, 14241])"
      ]
     },
     "execution_count": 30,
     "metadata": {},
     "output_type": "execute_result"
    }
   ],
   "source": [
    "num_projects_year = train['created_at_datetime']\n",
    "num_projects_year.dt.year.value_counts(sort = False).values\n"
   ]
  },
  {
   "cell_type": "code",
   "execution_count": 31,
   "metadata": {},
   "outputs": [],
   "source": [
    "year = num_projects_year.dt.year.unique()\n",
    "year_projects = num_projects_year.dt.year.value_counts(sort = False)"
   ]
  },
  {
   "cell_type": "code",
   "execution_count": 32,
   "metadata": {},
   "outputs": [
    {
     "data": {
      "text/plain": [
       "[<matplotlib.lines.Line2D at 0x7f331a272a20>]"
      ]
     },
     "execution_count": 32,
     "metadata": {},
     "output_type": "execute_result"
    },
    {
     "data": {
      "image/png": "[encoded data removed]",
      "text/plain": [
       "<matplotlib.figure.Figure at 0x7f331af1ce10>"
      ]
     },
     "metadata": {},
     "output_type": "display_data"
    }
   ],
   "source": [
    "# year vs projects\n",
    "plt.plot(year, year_projects)"
   ]
  },
  {
   "cell_type": "code",
   "execution_count": 33,
   "metadata": {},
   "outputs": [
    {
     "name": "stdout",
     "output_type": "stream",
     "text": [
      "funded 2009: 262\n",
      "not funded 2009: 418\n",
      "funded 2010: 1617\n",
      "not funded 2010: 2804\n",
      "funded 2011: 4408\n",
      "not funded 2011: 7074\n",
      "funded 2012: 7328\n",
      "not funded 2012: 12339\n",
      "funded 2013: 8059\n",
      "not funded 2013: 11976\n",
      "funded 2014: 9817\n",
      "not funded 2014: 27786\n",
      "funded 2015: 3070\n",
      "not funded 2015: 11171\n"
     ]
    }
   ],
   "source": [
    "# datetime format\n",
    "# year funded and not funded\n",
    "funded_2009 = train[(train['created_at_datetime'].dt.year == 2009) & (train['final_status'] == 1)]['final_status'].sum()\n",
    "not_funded_2009 = len(train[train['created_at_datetime'].dt.year == 2009]) - funded_2009\n",
    "print('funded 2009: {}\\nnot funded 2009: {}'.format(funded_2009, not_funded_2009))\n",
    "\n",
    "funded_2010 = train[(train['created_at_datetime'].dt.year == 2010) & (train['final_status'] == 1)]['final_status'].sum()\n",
    "not_funded_2010 = len(train[train['created_at_datetime'].dt.year == 2010]) - funded_2010\n",
    "print('funded 2010: {}\\nnot funded 2010: {}'.format(funded_2010, not_funded_2010))\n",
    "\n",
    "funded_2011 = train[(train['created_at_datetime'].dt.year == 2011) & (train['final_status'] == 1)]['final_status'].sum()\n",
    "not_funded_2011 = len(train[train['created_at_datetime'].dt.year == 2011]) - funded_2011\n",
    "print('funded 2011: {}\\nnot funded 2011: {}'.format(funded_2011, not_funded_2011))\n",
    "\n",
    "funded_2012 = train[(train['created_at_datetime'].dt.year == 2012) & (train['final_status'] == 1)]['final_status'].sum()\n",
    "not_funded_2012 = len(train[train['created_at_datetime'].dt.year == 2012]) - funded_2012\n",
    "print('funded 2012: {}\\nnot funded 2012: {}'.format(funded_2012, not_funded_2012))\n",
    "\n",
    "funded_2013 = train[(train['created_at_datetime'].dt.year == 2013) & (train['final_status'] == 1)]['final_status'].sum()\n",
    "not_funded_2013 = len(train[train['created_at_datetime'].dt.year == 2013]) - funded_2013\n",
    "print('funded 2013: {}\\nnot funded 2013: {}'.format(funded_2013, not_funded_2013))\n",
    "\n",
    "funded_2014 = train[(train['created_at_datetime'].dt.year == 2014) & (train['final_status'] == 1)]['final_status'].sum()\n",
    "not_funded_2014 = len(train[train['created_at_datetime'].dt.year == 2014]) - funded_2014\n",
    "print('funded 2014: {}\\nnot funded 2014: {}'.format(funded_2014, not_funded_2014))\n",
    "\n",
    "funded_2015 = train[(train['created_at_datetime'].dt.year == 2015) & (train['final_status'] == 1)]['final_status'].sum()\n",
    "not_funded_2015 = len(train[train['created_at_datetime'].dt.year == 2015]) - funded_2015\n",
    "print('funded 2015: {}\\nnot funded 2015: {}'.format(funded_2015, not_funded_2015))\n"
   ]
  },
  {
   "cell_type": "code",
   "execution_count": 34,
   "metadata": {},
   "outputs": [
    {
     "data": {
      "text/plain": [
       "<seaborn.axisgrid.JointGrid at 0x7f331a623dd8>"
      ]
     },
     "execution_count": 34,
     "metadata": {},
     "output_type": "execute_result"
    },
    {
     "data": {
      "image/png": "[encoded data removed]",
      "text/plain": [
       "<matplotlib.figure.Figure at 0x7f331a623cf8>"
      ]
     },
     "metadata": {},
     "output_type": "display_data"
    }
   ],
   "source": [
    "sns.jointplot(x='converted_goal_USD', y='backers_count', data=train[train['converted_goal_USD'] < 4000])"
   ]
  },
  {
   "cell_type": "code",
   "execution_count": 35,
   "metadata": {},
   "outputs": [
    {
     "data": {
      "text/plain": [
       "<seaborn.axisgrid.JointGrid at 0x7f331ad8de48>"
      ]
     },
     "execution_count": 35,
     "metadata": {},
     "output_type": "execute_result"
    },
    {
     "data": {
      "image/png": "[encoded data removed]",
      "text/plain": [
       "<matplotlib.figure.Figure at 0x7f331a54fc18>"
      ]
     },
     "metadata": {},
     "output_type": "display_data"
    }
   ],
   "source": [
    "sns.jointplot(x='converted_goal_USD', y='backers_count', data=train[train['converted_goal_USD'] < 4000].sample(100))"
   ]
  },
  {
   "cell_type": "code",
   "execution_count": 36,
   "metadata": {},
   "outputs": [
    {
     "data": {
      "text/plain": [
       "<seaborn.axisgrid.JointGrid at 0x7f331a54fdd8>"
      ]
     },
     "execution_count": 36,
     "metadata": {},
     "output_type": "execute_result"
    },
    {
     "data": {
      "image/png": "[encoded data removed]",
      "text/plain": [
       "<matplotlib.figure.Figure at 0x7f331a54f0b8>"
      ]
     },
     "metadata": {},
     "output_type": "display_data"
    }
   ],
   "source": [
    "sns.jointplot(x='converted_goal_USD', y='backers_count', data=train[train['converted_goal_USD'] < 40000], kind='hex', gridsize=20)\n",
    "              "
   ]
  },
  {
   "cell_type": "code",
   "execution_count": 37,
   "metadata": {},
   "outputs": [
    {
     "data": {
      "text/plain": [
       "<seaborn.axisgrid.JointGrid at 0x7f331a1fb278>"
      ]
     },
     "execution_count": 37,
     "metadata": {},
     "output_type": "execute_result"
    },
    {
     "data": {
      "image/png": "[encoded data removed]",
      "text/plain": [
       "<matplotlib.figure.Figure at 0x7f331a32a6a0>"
      ]
     },
     "metadata": {},
     "output_type": "display_data"
    }
   ],
   "source": [
    "sns.jointplot(x='converted_goal_USD', y='backers_count', data=train[train['converted_goal_USD'] < 40000].sample(100), kind='hex', gridsize=20)\n"
   ]
  },
  {
   "cell_type": "code",
   "execution_count": 38,
   "metadata": {},
   "outputs": [],
   "source": [
    "funded_year_projects = [262, 1617, 4408, 7328, 8059, 9817, 3070]\n",
    "not_funded_year_projects = [418, 2804, 7074, 12339, 11976, 27786, 11171]"
   ]
  },
  {
   "cell_type": "code",
   "execution_count": 39,
   "metadata": {},
   "outputs": [
    {
     "data": {
      "text/plain": [
       "[<matplotlib.lines.Line2D at 0x7f33198bcdd8>]"
      ]
     },
     "execution_count": 39,
     "metadata": {},
     "output_type": "execute_result"
    },
    {
     "data": {
      "image/png": "[encoded data removed]",
      "text/plain": [
       "<matplotlib.figure.Figure at 0x7f331af20668>"
      ]
     },
     "metadata": {},
     "output_type": "display_data"
    }
   ],
   "source": [
    "# year vs funded projects\n",
    "plt.plot(year, funded_year_projects)"
   ]
  },
  {
   "cell_type": "code",
   "execution_count": 40,
   "metadata": {},
   "outputs": [
    {
     "data": {
      "text/plain": [
       "[<matplotlib.lines.Line2D at 0x7f3319877eb8>]"
      ]
     },
     "execution_count": 40,
     "metadata": {},
     "output_type": "execute_result"
    },
    {
     "data": {
      "image/png": "[encoded data removed]",
      "text/plain": [
       "<matplotlib.figure.Figure at 0x7f33198a5748>"
      ]
     },
     "metadata": {},
     "output_type": "display_data"
    }
   ],
   "source": [
    "# year vs not funded projects\n",
    "plt.plot(year, not_funded_year_projects)"
   ]
  },
  {
   "cell_type": "code",
   "execution_count": 41,
   "metadata": {},
   "outputs": [
    {
     "data": {
      "text/plain": [
       "(0.009000000000000001, 1984.405]    27184\n",
       "(1984.405, 5000.0]                  31557\n",
       "(5000.0, 13000.0]                   22395\n",
       "(13000.0, 100000000.0]              26993\n",
       "Name: converted_goal_USD, dtype: int64"
      ]
     },
     "execution_count": 41,
     "metadata": {},
     "output_type": "execute_result"
    }
   ],
   "source": [
    "# binning the goals wrt quantiles\n",
    "goal_bins = pd.qcut(train['converted_goal_USD'], 4)\n",
    "goal_bins.value_counts(sort = False)"
   ]
  },
  {
   "cell_type": "code",
   "execution_count": 42,
   "metadata": {},
   "outputs": [
    {
     "data": {
      "text/plain": [
       "(-0.001, 2.0]       27629\n",
       "(2.0, 17.0]         26963\n",
       "(17.0, 65.0]        26780\n",
       "(65.0, 219382.0]    26757\n",
       "Name: backers_count, dtype: int64"
      ]
     },
     "execution_count": 42,
     "metadata": {},
     "output_type": "execute_result"
    }
   ],
   "source": [
    "backers_count_bins = pd.qcut(train['backers_count'], 4)\n",
    "backers_count_bins.value_counts(sort = False)"
   ]
  }
 ],
 "metadata": {
  "kernelspec": {
   "display_name": "Python 3",
   "language": "python",
   "name": "python3"
  },
  "language_info": {
   "codemirror_mode": {
    "name": "ipython",
    "version": 3
   },
   "file_extension": ".py",
   "mimetype": "text/x-python",
   "name": "python",
   "nbconvert_exporter": "python",
   "pygments_lexer": "ipython3",
   "version": "3.5.4"
  }
 },
 "nbformat": 4,
 "nbformat_minor": 2
}
